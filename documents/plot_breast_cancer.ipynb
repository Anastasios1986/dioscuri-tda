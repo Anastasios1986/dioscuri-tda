{
 "cells": [
  {
   "cell_type": "markdown",
   "metadata": {},
   "source": [
    "This construction was taken from https://kepler-mapper.scikit-tda.org/generated/gallery/plot_digits.html"
   ]
  },
  {
   "cell_type": "code",
   "execution_count": 8,
   "metadata": {},
   "outputs": [
    {
     "data": {
      "text/html": [
       "<style>\n",
       "    .container { width:100% !important; }\n",
       "    .output_scroll {height: 800px !important;}\n",
       "    </style>"
      ],
      "text/plain": [
       "<IPython.core.display.HTML object>"
      ]
     },
     "metadata": {},
     "output_type": "display_data"
    }
   ],
   "source": [
    "%matplotlib inline\n",
    "import kmapper as km\n",
    "from kmapper import jupyter\n",
    "import matplotlib.pyplot as plt"
   ]
  },
  {
   "cell_type": "markdown",
   "metadata": {},
   "source": [
    "\n",
    "Breast Cancer\n",
    "================\n",
    "\n",
    "\n",
    "\n",
    "This example generates a Mapper built from the `Wisconsin Breast Cancer Dataset <https://www.kaggle.com/uciml/breast-cancer-wisconsin-data>`_.\n",
    "\n",
    "`Visualization of the breast cancer mapper <../../_static/breast-cancer.html>`_\n",
    "\n",
    "\n",
    "The reasoning behind the choice of lenses in the demonstration above is:\n",
    "\n",
    "- **For lens1:** Lenses that make biological sense; in other words, lenses that highlight special features in the data, that I know about. \n",
    "- **For lens2:** Lenses that disperse the data, as opposed to clustering many points together.\n",
    "\n",
    "In the case of this particualr data, using an anomaly score (in this case calculated using the IsolationForest from sklearn) makes biological sense since cancer cells are anomalous. For the second lens, we use the $l^2$ norm.\n",
    "\n",
    "For an interactive exploration of lens for the breast cancer, see the `Choosing a lens notebook <../../notebooks/Cancer-demo.html>`_.\n",
    "\n",
    "\n",
    "\n",
    "![](../../../examples/images/breast-cancer.png)\n",
    "\n"
   ]
  },
  {
   "cell_type": "code",
   "execution_count": 11,
   "metadata": {},
   "outputs": [],
   "source": [
    "import sys\n",
    "import pandas as pd\n",
    "import numpy as np\n",
    "import kmapper as km\n",
    "import sklearn\n",
    "from sklearn import ensemble"
   ]
  },
  {
   "cell_type": "code",
   "execution_count": 15,
   "metadata": {},
   "outputs": [
    {
     "name": "stdout",
     "output_type": "stream",
     "text": [
      "212\n",
      "569\n"
     ]
    }
   ],
   "source": [
    "# Let us read the data from the Wisconsin Breast Cancer Dataset.\n",
    "#It can be found in here: https://www.kaggle.com/uciml/breast-cancer-wisconsin-data\n",
    "df = pd.read_csv(\"data\\\\breast-cancer.csv\")\n",
    "feature_names = [c for c in df.columns if c not in [\"id\", \"diagnosis\"]]\n",
    "df[\"diagnosis\"] = df[\"diagnosis\"].apply(lambda x: 1 if x == \"M\" else 0)\n",
    "X = np.array(df[feature_names].fillna(0))  # quick and dirty imputation\n",
    "y = np.array(df[\"diagnosis\"])\n",
    "\n",
    "print(sum(y))\n",
    "print(len(y))"
   ]
  },
  {
   "cell_type": "code",
   "execution_count": 17,
   "metadata": {},
   "outputs": [
    {
     "name": "stderr",
     "output_type": "stream",
     "text": [
      "C:\\ProgramData\\Anaconda3\\lib\\site-packages\\IPython\\core\\display.py:701: UserWarning: Consider using IPython.display.IFrame instead\n",
      "  warnings.warn(\"Consider using IPython.display.IFrame instead\")\n"
     ]
    },
    {
     "data": {
      "text/html": [
       "<iframe src=breast-cancer.html width=100%% height=800 frameBorder=\"0\"></iframe>"
      ],
      "text/plain": [
       "<IPython.core.display.HTML object>"
      ]
     },
     "metadata": {},
     "output_type": "display_data"
    }
   ],
   "source": [
    "# We create a custom 1-D lens with Isolation Forest\n",
    "model = ensemble.IsolationForest(random_state=1729)\n",
    "model.fit(X)\n",
    "lens1 = model.decision_function(X).reshape((X.shape[0], 1))\n",
    "\n",
    "# We create another 1-D lens with L2-norm\n",
    "mapper = km.KeplerMapper(verbose=0)\n",
    "lens2 = mapper.fit_transform(X, projection=\"l2norm\")\n",
    "\n",
    "# Combine both lenses to create a 2-D [Isolation Forest, L^2-Norm] lens\n",
    "lens = np.c_[lens1, lens2]\n",
    "\n",
    "# Create the simplicial complex\n",
    "graph = mapper.map(lens,\n",
    "                   X,\n",
    "                   cover=km.Cover(n_cubes=15, perc_overlap=0.4)\n",
    "                   ,clusterer=sklearn.cluster.KMeans(n_clusters=2,\n",
    "                                                    random_state=1618033)\n",
    "                   )\n",
    "\n",
    "# Visualization\n",
    "mapper.visualize(graph,\n",
    "                 path_html=\"breast-cancer.html\",\n",
    "                 title=\"Wisconsin Breast Cancer Dataset\",\n",
    "                 custom_tooltips=y)\n",
    "\n",
    "\n",
    "jupyter.display(path_html=\"breast-cancer.html\")"
   ]
  },
  {
   "cell_type": "code",
   "execution_count": 18,
   "metadata": {},
   "outputs": [
    {
     "data": {
      "image/png": "[encoded data removed]",
      "text/plain": [
       "<Figure size 432x288 with 1 Axes>"
      ]
     },
     "metadata": {},
     "output_type": "display_data"
    }
   ],
   "source": [
    "#We can also visualize the Mapper graph in the matplotlib as below:\n",
    "import matplotlib.pyplot as plt\n",
    "km.draw_matplotlib(graph)\n",
    "plt.show()"
   ]
  }
 ],
 "metadata": {
  "kernelspec": {
   "display_name": "Python 3",
   "language": "python",
   "name": "python3"
  },
  "language_info": {
   "codemirror_mode": {
    "name": "ipython",
    "version": 3
   },
   "file_extension": ".py",
   "mimetype": "text/x-python",
   "name": "python",
   "nbconvert_exporter": "python",
   "pygments_lexer": "ipython3",
   "version": "3.7.7"
  }
 },
 "nbformat": 4,
 "nbformat_minor": 1
}
