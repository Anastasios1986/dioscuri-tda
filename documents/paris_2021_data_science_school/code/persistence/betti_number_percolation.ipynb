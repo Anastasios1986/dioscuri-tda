{
 "cells": [
  {
   "cell_type": "markdown",
   "metadata": {},
   "source": [
    "In this notebook we will see how to aproximate persistent homology of random cubical complexes on a N by N grid. Any given 2 dimensional cube will be filled in with probatility p, and we will let p vary between 0 and 1. Can you spot any phenomena in Betti numbers that looks a bit like a phase transition?"
   ]
  },
  {
   "cell_type": "code",
   "execution_count": null,
   "metadata": {},
   "outputs": [],
   "source": [
    "import numpy as np\n",
    "import math\n",
    "import gudhi as gd\n",
    "from matplotlib import pyplot as plt  \n",
    "%matplotlib inline"
   ]
  },
  {
   "cell_type": "code",
   "execution_count": null,
   "metadata": {},
   "outputs": [],
   "source": [
    "#Here we create N by N grid\n",
    "N = 100   \n",
    "array = np.zeros((N,N))\n",
    "p = 0.3\n",
    "\n",
    "bitmap = []\n",
    "for i in range(0,N):\n",
    "    for j in range (0,N):\n",
    "        s = np.random.uniform(0,1,1)\n",
    "        if s < p:\n",
    "            bitmap.append(1)\n",
    "            array[i][j] = 1\n",
    "        else:\n",
    "            bitmap.append(0)"
   ]
  },
  {
   "cell_type": "code",
   "execution_count": null,
   "metadata": {},
   "outputs": [],
   "source": [
    "#Here we will display the image corresponding to the values of points in the grid:\n",
    "plt.imshow(array, cmap='gray', interpolation='nearest', vmin=np.amin(0), vmax=np.amax(1))\n",
    "plt.show()      "
   ]
  },
  {
   "cell_type": "code",
   "execution_count": null,
   "metadata": {},
   "outputs": [],
   "source": [
    "#Given the input data we can buld a Gudhi btmap cubical complex:\n",
    "bcc = gd.CubicalComplex(top_dimensional_cells = bitmap, dimensions=[N,N])\n",
    "persistence = bcc.persistence()\n",
    "\n",
    "betti0 = 0\n",
    "betti1 = 0\n",
    "for x in persistence:\n",
    "    if x[0] == 0:\n",
    "        betti0 = betti0 + 1\n",
    "    else:\n",
    "        betti1 = betti1 + 1\n",
    "        \n",
    "print( betti0 )\n",
    "print( betti1 )"
   ]
  },
  {
   "cell_type": "markdown",
   "metadata": {},
   "source": [
    "Now, let us see the Betti number plots for varying p."
   ]
  },
  {
   "cell_type": "code",
   "execution_count": null,
   "metadata": {},
   "outputs": [],
   "source": [
    "probabilities = np.arange(0, 1, 0.05)\n",
    "\n",
    "\n",
    "bettis0 = []\n",
    "bettis1 = []\n",
    "for p in probabilities:\n",
    "    \n",
    "    #Generate random bitmap for probability p\n",
    "    bitmap = []\n",
    "    for i in range(0,N):\n",
    "        for j in range (0,N):\n",
    "            s = np.random.uniform(0,1,1)\n",
    "            if s < p:\n",
    "                bitmap.append(1)\n",
    "                array[i][j] = 1\n",
    "            else:\n",
    "                bitmap.append(0)\n",
    "    \n",
    "    #Compute persustence\n",
    "    bcc = gd.CubicalComplex(top_dimensional_cells = bitmap, dimensions=[N,N])\n",
    "    persistence = bcc.persistence()\n",
    "\n",
    "    b0 = 0\n",
    "    b1 = 0\n",
    "    for x in persistence:\n",
    "        if x[0] == 0:\n",
    "            b0 = b0 + 1\n",
    "        else:\n",
    "            b1 = b1 + 1\n",
    "            \n",
    "    bettis0.append( b0 )\n",
    "    bettis1.append( b1 )\n",
    "    \n",
    "print( bettis0 )\n",
    "print( bettis1 )"
   ]
  },
  {
   "cell_type": "code",
   "execution_count": null,
   "metadata": {},
   "outputs": [],
   "source": [
    "plt.plot( bettis0 )\n",
    "plt.plot( bettis1 )"
   ]
  }
 ],
 "metadata": {
  "kernelspec": {
   "display_name": "Python 3",
   "language": "python",
   "name": "python3"
  },
  "language_info": {
   "codemirror_mode": {
    "name": "ipython",
    "version": 3
   },
   "file_extension": ".py",
   "mimetype": "text/x-python",
   "name": "python",
   "nbconvert_exporter": "python",
   "pygments_lexer": "ipython3",
   "version": "3.8.5"
  }
 },
 "nbformat": 4,
 "nbformat_minor": 4
}
