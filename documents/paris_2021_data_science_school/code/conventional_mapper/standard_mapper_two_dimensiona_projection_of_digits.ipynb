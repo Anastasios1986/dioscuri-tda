{
 "cells": [
  {
   "cell_type": "markdown",
   "metadata": {},
   "source": [
    "This example is inspired by the following script:\n",
    "https://github.com/scikit-tda/kepler-mapper/blob/master/examples/digits/digits.ipynb\n",
    "There are hovewer substantial changes to it that simplify the visualization. \n",
    "\n",
    "This is an interesting example of use of Mapper, as the domain of the lense is $$R^2$$ instead of $$R$$. The lense will be constructed using UMAP library, that project the hand written digits from their ambient space to $$R^2$$."
   ]
  },
  {
   "cell_type": "code",
   "execution_count": 31,
   "metadata": {},
   "outputs": [],
   "source": [
    "#!pip3 install umap-learn\n",
    "#!pip3 install python-igraph plotly ipywidgets"
   ]
  },
  {
   "cell_type": "code",
   "execution_count": 48,
   "metadata": {},
   "outputs": [],
   "source": [
    "import kmapper as km\n",
    "from kmapper import jupyter \n",
    "import numpy as np\n",
    "import sklearn\n",
    "from sklearn import datasets\n",
    "try:\n",
    "    import umap\n",
    "except ImportError:\n",
    "    print(\"This example requires the UMAP library. You can install it with the command `!pip install umap-learn`\")\n",
    "import warnings\n",
    "warnings.filterwarnings(\"ignore\")\n",
    "from kmapper.plotlyviz import plotlyviz\n",
    "from kmapper.plotlyviz import *\n",
    "import plotly.graph_objs as go\n",
    "import ipywidgets as ipw\n",
    "import matplotlib.pyplot as plt\n",
    "%matplotlib inline"
   ]
  },
  {
   "cell_type": "code",
   "execution_count": 49,
   "metadata": {},
   "outputs": [],
   "source": [
    "data, labels = datasets.load_digits().data, datasets.load_digits().target"
   ]
  },
  {
   "cell_type": "code",
   "execution_count": 34,
   "metadata": {},
   "outputs": [
    {
     "data": {
      "image/png": "[encoded data removed]",
      "text/plain": [
       "<Figure size 432x230.4 with 1 Axes>"
      ]
     },
     "metadata": {
      "needs_background": "light"
     },
     "output_type": "display_data"
    },
    {
     "data": {
      "image/png": "[encoded data removed]",
      "text/plain": [
       "<Figure size 432x230.4 with 1 Axes>"
      ]
     },
     "metadata": {
      "needs_background": "light"
     },
     "output_type": "display_data"
    },
    {
     "data": {
      "image/png": "[encoded data removed]",
      "text/plain": [
       "<Figure size 432x230.4 with 1 Axes>"
      ]
     },
     "metadata": {
      "needs_background": "light"
     },
     "output_type": "display_data"
    },
    {
     "data": {
      "image/png": "[encoded data removed]",
      "text/plain": [
       "<Figure size 432x230.4 with 1 Axes>"
      ]
     },
     "metadata": {
      "needs_background": "light"
     },
     "output_type": "display_data"
    },
    {
     "data": {
      "image/png": "[encoded data removed]",
      "text/plain": [
       "<Figure size 432x230.4 with 1 Axes>"
      ]
     },
     "metadata": {
      "needs_background": "light"
     },
     "output_type": "display_data"
    },
    {
     "data": {
      "image/png": "[encoded data removed]",
      "text/plain": [
       "<Figure size 432x230.4 with 1 Axes>"
      ]
     },
     "metadata": {
      "needs_background": "light"
     },
     "output_type": "display_data"
    },
    {
     "data": {
      "image/png": "[encoded data removed]",
      "text/plain": [
       "<Figure size 432x230.4 with 1 Axes>"
      ]
     },
     "metadata": {
      "needs_background": "light"
     },
     "output_type": "display_data"
    },
    {
     "data": {
      "image/png": "[encoded data removed]",
      "text/plain": [
       "<Figure size 432x230.4 with 1 Axes>"
      ]
     },
     "metadata": {
      "needs_background": "light"
     },
     "output_type": "display_data"
    },
    {
     "data": {
      "image/png": "[encoded data removed]",
      "text/plain": [
       "<Figure size 432x230.4 with 1 Axes>"
      ]
     },
     "metadata": {
      "needs_background": "light"
     },
     "output_type": "display_data"
    }
   ],
   "source": [
    "#Let us take a look at the data - they are low resolution hand written figures:\n",
    "\n",
    "for i in range(0,9):\n",
    "    digit = np.resize(data[i],(8,8))\n",
    "    fig = plt.figure(figsize=(6, 3.2))\n",
    "    plt.imshow(digit)"
   ]
  },
  {
   "cell_type": "code",
   "execution_count": 50,
   "metadata": {},
   "outputs": [
    {
     "name": "stdout",
     "output_type": "stream",
     "text": [
      "KeplerMapper(verbose=1)\n",
      "..Composing projection pipeline of length 1:\n",
      "\tProjections: UMAP(min_dist=0.65, n_neighbors=8, random_state=3571)\n",
      "\tDistance matrices: False\n",
      "\tScalers: MinMaxScaler()\n",
      "..Projecting on data shaped (1797, 64)\n",
      "\n",
      "..Projecting data using: \n",
      "\tUMAP(min_dist=0.65, n_neighbors=8, random_state=3571, verbose=1)\n",
      "\n",
      "UMAP(min_dist=0.65, n_neighbors=8, random_state=3571, verbose=1)\n",
      "Construct fuzzy simplicial set\n",
      "Tue Dec 29 16:56:11 2020 Finding Nearest Neighbors\n",
      "Tue Dec 29 16:56:11 2020 Finished Nearest Neighbor Search\n",
      "Tue Dec 29 16:56:11 2020 Construct embedding\n",
      "\tcompleted  0  /  500 epochs\n",
      "\tcompleted  50  /  500 epochs\n",
      "\tcompleted  100  /  500 epochs\n",
      "\tcompleted  150  /  500 epochs\n",
      "\tcompleted  200  /  500 epochs\n",
      "\tcompleted  250  /  500 epochs\n",
      "\tcompleted  300  /  500 epochs\n",
      "\tcompleted  350  /  500 epochs\n",
      "\tcompleted  400  /  500 epochs\n",
      "\tcompleted  450  /  500 epochs\n",
      "Tue Dec 29 16:56:14 2020 Finished embedding\n",
      "\n",
      "..Scaling with: MinMaxScaler()\n",
      "\n"
     ]
    }
   ],
   "source": [
    "#Let us now construst the mapper\n",
    "mapper = km.KeplerMapper(verbose=1)\n",
    "\n",
    "#Our lense function will be baser on 2-dimensional UMAP projection of the digits that we are going to construct right here:\n",
    "projected_data_ = mapper.fit_transform(data, projection=umap.UMAP(n_neighbors=8,\n",
    "                                                                 min_dist=0.65,\n",
    "                                                                 n_components=2,\n",
    "                                                                 metric='euclidean',\n",
    "                                                                 random_state=3571))"
   ]
  },
  {
   "cell_type": "code",
   "execution_count": 36,
   "metadata": {
    "scrolled": true
   },
   "outputs": [
    {
     "name": "stdout",
     "output_type": "stream",
     "text": [
      "Mapping on data shaped (1797, 64) using lens shaped (1797, 2)\n",
      "\n",
      "Creating 25 hypercubes.\n",
      "\n",
      "Created 801 edges and 230 nodes in 0:00:03.622170.\n",
      "Wrote visualization to: projection_of_digits.html\n"
     ]
    },
    {
     "data": {
      "text/html": [
       "<style>\n",
       "        .container { width:100% !important; }\n",
       "        .output_scroll {height: 800px !important;}\n",
       "        </style>"
      ],
      "text/plain": [
       "<IPython.core.display.HTML object>"
      ]
     },
     "metadata": {},
     "output_type": "display_data"
    },
    {
     "data": {
      "text/html": [
       "<iframe src=projection_of_digits.html width=100%% height=800 frameBorder=\"0\"></iframe>"
      ],
      "text/plain": [
       "<IPython.core.display.HTML object>"
      ]
     },
     "metadata": {},
     "output_type": "display_data"
    }
   ],
   "source": [
    "graph = mapper.map(projected_data_,data,\n",
    "                      #clusterer=sklearn.cluster.DBSCAN(eps=20, min_samples=3),\n",
    "                       clusterer=sklearn.cluster.KMeans(init=\"k-means++\", n_clusters=10),\n",
    "                      #clusterer=sklearn.cluster.MeanShift(min_bin_freq=1, cluster_all=True, max_iter=300),\n",
    "                      #clusterer=sklearn.cluster.AgglomerativeClustering(n_clusters=2, affinity='euclidean', compute_full_tree='auto', linkage='ward'),\n",
    "                      #clusterer=sklearn.cluster.SpectralClustering(n_clusters=8,n_init=10,n_neighbors=10),                \n",
    "                      #cover=km.Cover(20, 0.8))\n",
    "                      cover=km.Cover(5, 0.5))\n",
    "html = mapper.visualize(graph,color_function=labels,path_html=\"projection_of_digits.html\")\n",
    "\n",
    "jupyter.display(path_html=\"projection_of_digits.html\")"
   ]
  },
  {
   "cell_type": "code",
   "execution_count": 51,
   "metadata": {},
   "outputs": [
    {
     "data": {
      "image/png": "[encoded data removed]",
      "text/plain": [
       "<Figure size 432x288 with 1 Axes>"
      ]
     },
     "metadata": {},
     "output_type": "display_data"
    }
   ],
   "source": [
    "plot = km.draw_matplotlib(graph, layout=\"spring\")"
   ]
  }
 ],
 "metadata": {
  "kernelspec": {
   "display_name": "Python 3",
   "language": "python",
   "name": "python3"
  },
  "language_info": {
   "codemirror_mode": {
    "name": "ipython",
    "version": 3
   },
   "file_extension": ".py",
   "mimetype": "text/x-python",
   "name": "python",
   "nbconvert_exporter": "python",
   "pygments_lexer": "ipython3",
   "version": "3.8.5"
  }
 },
 "nbformat": 4,
 "nbformat_minor": 4
}
